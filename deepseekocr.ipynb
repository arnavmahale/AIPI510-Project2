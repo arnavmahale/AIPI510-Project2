{
  "cells": [
    {
      "cell_type": "markdown",
      "metadata": {
        "colab_type": "text",
        "id": "view-in-github"
      },
      "source": [
        "<a href=\"https://colab.research.google.com/gist/hathibelagal-dev/6f2d35a1bf01b2222a0e57cf5c493416/deepseekocr.ipynb\" target=\"_parent\"><img src=\"https://colab.research.google.com/assets/colab-badge.svg\" alt=\"Open In Colab\"/></a>"
      ]
    },
    {
      "cell_type": "markdown",
      "metadata": {
        "id": "LJVecLhurpri"
      },
      "source": [
        "### Optional\n",
        "This is for word-wrapping the output of OCR process"
      ]
    },
    {
      "cell_type": "code",
      "execution_count": null,
      "metadata": {
        "id": "H01_mrj5EImo"
      },
      "outputs": [],
      "source": [
        "from IPython.display import HTML, display\n",
        "\n",
        "def set_css():\n",
        "  display(HTML('''\n",
        "  <style>\n",
        "    pre {\n",
        "      white-space: pre-wrap;\n",
        "    }\n",
        "  </style>\n",
        "  '''))\n",
        "get_ipython().events.register('pre_run_cell', set_css)"
      ]
    },
    {
      "cell_type": "markdown",
      "metadata": {
        "id": "x6gOGtW0mEwm"
      },
      "source": [
        "### Setup"
      ]
    },
    {
      "cell_type": "code",
      "execution_count": null,
      "metadata": {
        "id": "axaHlCqp8vMO"
      },
      "outputs": [],
      "source": [
        "!pip3 install --no-deps -q bitsandbytes"
      ]
    },
    {
      "cell_type": "code",
      "execution_count": null,
      "metadata": {
        "id": "lRq1Gp3R5veF"
      },
      "outputs": [],
      "source": [
        "!pip3 install addict transformers==4.46.3 tokenizers==0.20.3 pdf2image"
      ]
    },
    {
      "cell_type": "code",
      "execution_count": null,
      "metadata": {
        "id": "eNwbNdtIlKQX"
      },
      "outputs": [],
      "source": [
        "!apt install poppler-utils"
      ]
    },
    {
      "cell_type": "code",
      "execution_count": null,
      "metadata": {
        "id": "tHhuMouI6tH7"
      },
      "outputs": [],
      "source": [
        "!mkdir -p /content/outputs /content/pdf_pages/"
      ]
    },
    {
      "cell_type": "markdown",
      "metadata": {
        "id": "nTeG5pyemIf7"
      },
      "source": [
        "### PDF to Images"
      ]
    },
    {
      "cell_type": "code",
      "execution_count": null,
      "metadata": {
        "id": "fg65Tr_kkBdw"
      },
      "outputs": [],
      "source": [
        "from pdf2image import convert_from_path\n",
        "\n",
        "pdf_file = 'test.pdf'\n",
        "images = convert_from_path(pdf_file)\n",
        "\n",
        "for i, image in enumerate(images):\n",
        "    image.save(f'/content/pdf_pages/page_{i+1}.jpg', 'JPEG')"
      ]
    },
    {
      "cell_type": "code",
      "execution_count": null,
      "metadata": {
        "id": "2OTEhoXyBbTN"
      },
      "outputs": [],
      "source": [
        "from IPython.display import Image as _I\n",
        "_I(\"/content/pdf_pages/page_1.jpg\", width=640)"
      ]
    },
    {
      "cell_type": "markdown",
      "metadata": {
        "id": "X5ETqD2OmMHM"
      },
      "source": [
        "### OCR"
      ]
    },
    {
      "cell_type": "code",
      "execution_count": null,
      "metadata": {
        "id": "4urzCKTC5ArJ"
      },
      "outputs": [],
      "source": [
        "from transformers import AutoModel, AutoTokenizer, BitsAndBytesConfig\n",
        "import torch\n",
        "\n",
        "model_name = 'deepseek-ai/DeepSeek-OCR'"
      ]
    },
    {
      "cell_type": "code",
      "execution_count": null,
      "metadata": {
        "id": "2Qf2ctNZ82Ic"
      },
      "outputs": [],
      "source": [
        "qc = BitsAndBytesConfig(\n",
        "    load_in_4bit=True,\n",
        "    bnb_4bit_use_double_quant=True,\n",
        "    bnb_4bit_quant_type=\"nf4\",\n",
        "    bnb_4bit_compute_dtype=torch.float\n",
        ")"
      ]
    },
    {
      "cell_type": "code",
      "execution_count": null,
      "metadata": {
        "id": "z45-aaPY5F0u"
      },
      "outputs": [],
      "source": [
        "tokenizer = AutoTokenizer.from_pretrained(model_name, trust_remote_code=True)\n",
        "model = AutoModel.from_pretrained(\n",
        "    model_name, trust_remote_code=True,\n",
        "    use_safetensors=True, device_map=\"auto\",\n",
        "    quantization_config=qc, torch_dtype=torch.float\n",
        ")\n",
        "model = model.eval()"
      ]
    },
    {
      "cell_type": "code",
      "execution_count": null,
      "metadata": {
        "id": "HijaQwdYmiR7"
      },
      "outputs": [],
      "source": [
        "page_number = 5 #@param {type:\"integer\"}\n",
        "\n",
        "prompt = \"<image>\\nParse the figure.\"\n",
        "image_file = f'/content/pdf_pages/page_{page_number}.jpg'\n",
        "output_path = f'/content/outputs/page_{page_number}'"
      ]
    },
    {
      "cell_type": "code",
      "execution_count": null,
      "metadata": {
        "id": "gHpzukbw8g7t"
      },
      "outputs": [],
      "source": [
        "%%time\n",
        "model.infer(tokenizer, prompt=prompt, image_file=image_file, output_path = output_path, base_size = 1024, image_size = 1024, crop_mode=False, save_results = True, test_compress = True)"
      ]
    }
  ],
  "metadata": {
    "accelerator": "GPU",
    "colab": {
      "authorship_tag": "ABX9TyN1b8Rb+9emWJvuMAK42Lc3",
      "gpuType": "T4",
      "include_colab_link": true,
      "provenance": []
    },
    "kernelspec": {
      "display_name": "Python 3",
      "name": "python3"
    },
    "language_info": {
      "codemirror_mode": {
        "name": "ipython",
        "version": 3
      },
      "file_extension": ".py",
      "mimetype": "text/x-python",
      "name": "python",
      "nbconvert_exporter": "python",
      "pygments_lexer": "ipython3",
      "version": "3.9.6"
    }
  },
  "nbformat": 4,
  "nbformat_minor": 0
}
